{
  "nbformat": 4,
  "nbformat_minor": 0,
  "metadata": {
    "colab": {
      "provenance": [],
      "gpuType": "T4"
    },
    "kernelspec": {
      "name": "python3",
      "display_name": "Python 3"
    },
    "language_info": {
      "name": "python"
    },
    "accelerator": "GPU"
  },
  "cells": [
    {
      "cell_type": "markdown",
      "source": [
        "# Setup and Environment Configuration"
      ],
      "metadata": {
        "id": "T-Ocvm-8hfhh"
      }
    },
    {
      "cell_type": "code",
      "execution_count": null,
      "metadata": {
        "colab": {
          "base_uri": "https://localhost:8080/"
        },
        "id": "Xts14jrJuMAK",
        "outputId": "8656cd1b-8fbc-424e-a7bd-62db970c9a04"
      },
      "outputs": [
        {
          "output_type": "stream",
          "name": "stdout",
          "text": [
            "Mounted at /content/drive\n",
            "absT.zip unpacked to /content/absT\n"
          ]
        }
      ],
      "source": [
        "import os\n",
        "import cv2\n",
        "import numpy as np\n",
        "import torch\n",
        "import torch.nn as nn\n",
        "import torch.optim as optim\n",
        "from torch.utils.data import Dataset, DataLoader\n",
        "import matplotlib.pyplot as plt\n",
        "from sklearn.metrics import confusion_matrix, accuracy_score, roc_curve, auc, precision_recall_curve, f1_score\n",
        "import seaborn as sns\n",
        "import shap\n",
        "import uuid\n",
        "from datetime import datetime\n",
        "import time\n",
        "import zipfile\n",
        "import shutil\n",
        "\n",
        "from google.colab import drive\n",
        "drive.mount('/content/drive')\n",
        "\n",
        "zip_path = \"/content/drive/MyDrive/dataset/absT.zip\"\n",
        "extract_path = \"/content/absT\"\n",
        "os.makedirs(extract_path, exist_ok=True)\n",
        "\n",
        "with zipfile.ZipFile(zip_path, 'r') as zip_ref:\n",
        "    zip_ref.extractall(extract_path)\n",
        "\n",
        "print(\"absT.zip unpacked to /content/absT\")\n",
        "\n",
        "DATASET_DIR = \"/content/absT/absT\"\n",
        "TRAIN_IMAGE_DIR = os.path.join(DATASET_DIR, \"train\", \"images\")\n",
        "TRAIN_LABEL_DIR = os.path.join(DATASET_DIR, \"train\", \"labels\")\n",
        "VALID_IMAGE_DIR = os.path.join(DATASET_DIR, \"valid\", \"images\")\n",
        "VALID_LABEL_DIR = os.path.join(DATASET_DIR, \"valid\", \"labels\")\n",
        "MODEL_SAVE_PATH = \"/content/drive/MyDrive/model\"\n",
        "OUTPUT_DIR = \"/content/drive/MyDrive/output\"\n",
        "\n",
        "os.makedirs(MODEL_SAVE_PATH, exist_ok=True)\n",
        "os.makedirs(OUTPUT_DIR, exist_ok=True)\n",
        "\n",
        "device = torch.device(\"cuda\" if torch.cuda.is_available() else \"cpu\")\n",
        "\n",
        "CLASSES = ['annular', 'bubbly', 'churn', 'slug', 'transition_bubbly-slug',\n",
        "           'transition_churn-annular', 'transition_slug-churn']\n",
        "NUM_CLASSES = len(CLASSES)\n",
        "\n",
        "IMG_WIDTH = 96\n",
        "IMG_HEIGHT = 598\n",
        "\n",
        "torch.manual_seed(42)\n",
        "np.random.seed(42)"
      ]
    },
    {
      "cell_type": "code",
      "source": [
        "# Debug\n",
        "def count_files(folder, extensions=('.jpg', '.png', '.jpeg')):\n",
        "    try:\n",
        "        return len([f for f in os.listdir(folder) if f.lower().endswith(extensions)])\n",
        "    except FileNotFoundError:\n",
        "        print(f\"Folder not found: {folder}\")\n",
        "        return 0\n",
        "\n",
        "def count_labels(folder, extensions=('.txt',)):\n",
        "    try:\n",
        "        return len([f for f in os.listdir(folder) if f.lower().endswith(extensions)])\n",
        "    except FileNotFoundError:\n",
        "        print(f\"Folder not found: {folder}\")\n",
        "        return 0\n",
        "\n",
        "print(\"\\nDataset Overview\")\n",
        "print(\"-\" * 40)\n",
        "print(f\"Train Images: {count_files(TRAIN_IMAGE_DIR)}\")\n",
        "print(f\"Train Labels: {count_labels(TRAIN_LABEL_DIR)}\")\n",
        "print(f\"Valid Images: {count_files(VALID_IMAGE_DIR)}\")\n",
        "print(f\"Valid Labels: {count_labels(VALID_LABEL_DIR)}\")\n",
        "print(\"-\" * 40)"
      ],
      "metadata": {
        "colab": {
          "base_uri": "https://localhost:8080/"
        },
        "id": "jQn-kdMSxiEX",
        "outputId": "4ae25ed1-93e3-43d7-d6fa-6e006c7a8eed"
      },
      "execution_count": null,
      "outputs": [
        {
          "output_type": "stream",
          "name": "stdout",
          "text": [
            "\n",
            "Dataset Overview\n",
            "----------------------------------------\n",
            "Train Images: 1921\n",
            "Train Labels: 1921\n",
            "Valid Images: 411\n",
            "Valid Labels: 411\n",
            "----------------------------------------\n"
          ]
        }
      ]
    },
    {
      "cell_type": "markdown",
      "source": [
        "# Custom Dataset Class"
      ],
      "metadata": {
        "id": "bhO8q8xxh83Z"
      }
    },
    {
      "cell_type": "code",
      "source": [
        "class FlowPatternDataset(Dataset):\n",
        "    def __init__(self, image_dir, label_dir, transform=None):\n",
        "        self.image_dir = image_dir\n",
        "        self.label_dir = label_dir\n",
        "        self.transform = transform\n",
        "        self.images = [f for f in os.listdir(image_dir) if f.endswith(('.jpg', '.png'))]\n",
        "\n",
        "    def __len__(self):\n",
        "        return len(self.images)\n",
        "\n",
        "    def __getitem__(self, idx):\n",
        "        img_name = self.images[idx]\n",
        "        img_path = os.path.join(self.image_dir, img_name)\n",
        "        label_path = os.path.join(self.label_dir, img_name.replace('.jpg', '.txt').replace('.png', '.txt'))\n",
        "\n",
        "        image = cv2.imread(img_path)\n",
        "        if image is None:\n",
        "            raise FileNotFoundError(f\"Image not found: {img_path}\")\n",
        "        image = cv2.resize(image, (IMG_WIDTH, IMG_HEIGHT))\n",
        "        image = cv2.cvtColor(image, cv2.COLOR_BGR2RGB)\n",
        "        image = image / 255.0\n",
        "\n",
        "        label = 0\n",
        "        if os.path.exists(label_path):\n",
        "            with open(label_path, 'r') as f:\n",
        "                lines = f.readlines()\n",
        "                if lines:\n",
        "                    label = int(lines[0].split()[0])\n",
        "\n",
        "        if self.transform:\n",
        "            image = self.transform(image)\n",
        "\n",
        "        image_tensor = torch.FloatTensor(image).permute(2, 0, 1)\n",
        "        return image_tensor, torch.tensor(label, dtype=torch.long)"
      ],
      "metadata": {
        "id": "qwnvQDvbutiJ"
      },
      "execution_count": null,
      "outputs": []
    },
    {
      "cell_type": "markdown",
      "source": [
        "# PINN Classifier Model Definition"
      ],
      "metadata": {
        "id": "lxYproC-iFVw"
      }
    },
    {
      "cell_type": "code",
      "source": [
        "class PINNFlowClassifier(nn.Module):\n",
        "    def __init__(self, num_classes):\n",
        "        super(PINNFlowClassifier, self).__init__()\n",
        "        self.conv1 = nn.Conv2d(3, 16, kernel_size=3, padding=1)\n",
        "        self.conv2 = nn.Conv2d(16, 32, kernel_size=3, padding=1)\n",
        "        self.pool = nn.MaxPool2d(2, 2)\n",
        "        self.dropout1 = nn.Dropout(0.3)\n",
        "        self.fc1 = nn.Linear(32 * (IMG_HEIGHT // 4) * (IMG_WIDTH // 4), 128)\n",
        "        self.dropout2 = nn.Dropout(0.6)\n",
        "        self.fc2 = nn.Linear(128, num_classes)\n",
        "        self.relu = nn.ReLU()\n",
        "        self.lambda_phys = 0.1\n",
        "\n",
        "    def forward(self, x):\n",
        "        x = self.pool(self.relu(self.conv1(x)))\n",
        "        x = self.pool(self.relu(self.conv2(x)))\n",
        "        x = self.dropout1(x)\n",
        "        x = x.view(x.size(0), -1)\n",
        "        x = self.relu(self.fc1(x))\n",
        "        x = self.dropout2(x)\n",
        "        x = self.fc2(x)\n",
        "        return x\n",
        "\n",
        "    def physics_loss(self, x):\n",
        "        x = self.pool(self.relu(self.conv1(x)))\n",
        "        grad_x = torch.pow(x[:, :, :-1, :] - x[:, :, 1:, :], 2).mean() / (x.mean() + 1e-8)\n",
        "        grad_y = torch.pow(x[:, :, :, :-1] - x[:, :, :, 1:], 2).mean() / (x.mean() + 1e-8)\n",
        "        return self.lambda_phys * 100 * (grad_x + grad_y)"
      ],
      "metadata": {
        "id": "1bM_zjXyuyeE"
      },
      "execution_count": null,
      "outputs": []
    },
    {
      "cell_type": "markdown",
      "source": [
        "# Data Loading and Initialization"
      ],
      "metadata": {
        "id": "kVEWI96JiKFM"
      }
    },
    {
      "cell_type": "code",
      "source": [
        "train_dataset = FlowPatternDataset(TRAIN_IMAGE_DIR, TRAIN_LABEL_DIR)\n",
        "valid_dataset = FlowPatternDataset(VALID_IMAGE_DIR, VALID_LABEL_DIR)\n",
        "\n",
        "train_loader = DataLoader(train_dataset, batch_size=32, shuffle=True)\n",
        "valid_loader = DataLoader(valid_dataset, batch_size=32, shuffle=False)\n",
        "\n",
        "model = PINNFlowClassifier(NUM_CLASSES).to(device)\n",
        "criterion = nn.CrossEntropyLoss()\n",
        "optimizer = optim.Adam(model.parameters(), lr=0.001, weight_decay=1e-4)"
      ],
      "metadata": {
        "id": "vZzqXi9su1is"
      },
      "execution_count": null,
      "outputs": []
    },
    {
      "cell_type": "markdown",
      "source": [
        "# Training Loop"
      ],
      "metadata": {
        "id": "uqEIp0AEiO5f"
      }
    },
    {
      "cell_type": "code",
      "source": [
        "num_epochs = 50\n",
        "train_losses, valid_losses = [], []\n",
        "train_phys_losses, valid_phys_losses = [], []\n",
        "train_accuracies, valid_accuracies = [], []\n",
        "epoch_times = []\n",
        "\n",
        "best_valid_loss = float(\"inf\")\n",
        "best_model_path = os.path.join(MODEL_SAVE_PATH, \"pinn_best_flow_classifier.pt\")\n",
        "\n",
        "start_training = time.time()\n",
        "\n",
        "for epoch in range(num_epochs):\n",
        "    epoch_start = time.time()\n",
        "    model.train()\n",
        "    train_loss = 0\n",
        "    train_phys_loss = 0\n",
        "    correct_train = 0\n",
        "    total_train = 0\n",
        "\n",
        "    for images, labels in train_loader:\n",
        "        images, labels = images.to(device), labels.to(device)\n",
        "        optimizer.zero_grad()\n",
        "        outputs = model(images)\n",
        "        loss = criterion(outputs, labels)\n",
        "        phys_loss = model.physics_loss(images)\n",
        "        total_loss = loss + phys_loss\n",
        "        total_loss.backward()\n",
        "        optimizer.step()\n",
        "\n",
        "        train_loss += loss.item()\n",
        "        train_phys_loss += phys_loss.item()\n",
        "\n",
        "        _, predicted = torch.max(outputs.data, 1)\n",
        "        correct_train += (predicted == labels).sum().item()\n",
        "        total_train += labels.size(0)\n",
        "\n",
        "    train_loss /= len(train_loader)\n",
        "    train_phys_loss /= len(train_loader)\n",
        "    train_accuracy = correct_train / total_train\n",
        "\n",
        "    model.eval()\n",
        "    valid_loss = 0\n",
        "    valid_phys_loss = 0\n",
        "    correct_valid = 0\n",
        "    total_valid = 0\n",
        "\n",
        "    with torch.no_grad():\n",
        "        for images, labels in valid_loader:\n",
        "            images, labels = images.to(device), labels.to(device)\n",
        "            outputs = model(images)\n",
        "            loss = criterion(outputs, labels)\n",
        "            phys_loss = model.physics_loss(images)\n",
        "\n",
        "            valid_loss += loss.item()\n",
        "            valid_phys_loss += phys_loss.item()\n",
        "\n",
        "            _, predicted = torch.max(outputs.data, 1)\n",
        "            correct_valid += (predicted == labels).sum().item()\n",
        "            total_valid += labels.size(0)\n",
        "\n",
        "    valid_loss /= len(valid_loader)\n",
        "    valid_phys_loss /= len(valid_loader)\n",
        "    valid_accuracy = correct_valid / total_valid\n",
        "\n",
        "    train_losses.append(train_loss)\n",
        "    valid_losses.append(valid_loss)\n",
        "    train_phys_losses.append(train_phys_loss)\n",
        "    valid_phys_losses.append(valid_phys_loss)\n",
        "    train_accuracies.append(train_accuracy)\n",
        "    valid_accuracies.append(valid_accuracy)\n",
        "\n",
        "    epoch_duration = time.time() - epoch_start\n",
        "    epoch_times.append(epoch_duration)\n",
        "\n",
        "    print(f\"Epoch [{epoch+1}/{num_epochs}] {epoch_duration:.2f}s | \"\n",
        "          f\"Train Loss: {train_loss:.4f} | Valid Loss: {valid_loss:.4f} | \"\n",
        "          f\"Train Acc: {train_accuracy:.4f} | Valid Acc: {valid_accuracy:.4f} | \"\n",
        "          f\"Phys (Train): {train_phys_loss:.4f} | Phys (Valid): {valid_phys_loss:.4f}\")\n",
        "\n",
        "    if valid_loss < best_valid_loss:\n",
        "        best_valid_loss = valid_loss\n",
        "        torch.save(model.state_dict(), best_model_path)\n",
        "        print(f\"New best model saved (Validation Loss: {best_valid_loss:.4f})\")\n",
        "\n",
        "total_training_time = time.time() - start_training\n",
        "print(f\"\\nTotal Training Time: {total_training_time:.2f} seconds\")\n",
        "print(f\"Best model saved as: {best_model_path}\")"
      ],
      "metadata": {
        "colab": {
          "base_uri": "https://localhost:8080/"
        },
        "id": "Tg5Z0IZeu4vo",
        "outputId": "20a92381-4832-4083-b16a-e47217f80d09"
      },
      "execution_count": null,
      "outputs": [
        {
          "output_type": "stream",
          "name": "stdout",
          "text": [
            "Epoch [1/50] 12.26s | Train Loss: 1.2148 | Valid Loss: 0.7481 | Train Acc: 0.4930 | Valid Acc: 0.6740 | Phys (Train): 0.1377 | Phys (Valid): 0.1013\n",
            "New best model saved (Validation Loss: 0.7481)\n",
            "Epoch [2/50] 11.65s | Train Loss: 0.8482 | Valid Loss: 0.5872 | Train Acc: 0.6216 | Valid Acc: 0.8224 | Phys (Train): 0.0945 | Phys (Valid): 0.0857\n",
            "New best model saved (Validation Loss: 0.5872)\n",
            "Epoch [3/50] 10.88s | Train Loss: 0.7009 | Valid Loss: 0.5169 | Train Acc: 0.6892 | Valid Acc: 0.7835 | Phys (Train): 0.0801 | Phys (Valid): 0.0738\n",
            "New best model saved (Validation Loss: 0.5169)\n",
            "Epoch [4/50] 11.80s | Train Loss: 0.6386 | Valid Loss: 0.5052 | Train Acc: 0.6976 | Valid Acc: 0.8200 | Phys (Train): 0.0699 | Phys (Valid): 0.0665\n",
            "New best model saved (Validation Loss: 0.5052)\n",
            "Epoch [5/50] 12.26s | Train Loss: 0.6045 | Valid Loss: 0.6013 | Train Acc: 0.7309 | Valid Acc: 0.7713 | Phys (Train): 0.0630 | Phys (Valid): 0.0626\n",
            "Epoch [6/50] 10.12s | Train Loss: 0.6183 | Valid Loss: 0.5138 | Train Acc: 0.7137 | Valid Acc: 0.8151 | Phys (Train): 0.0619 | Phys (Valid): 0.0604\n",
            "Epoch [7/50] 10.78s | Train Loss: 0.6228 | Valid Loss: 0.4683 | Train Acc: 0.7241 | Valid Acc: 0.8151 | Phys (Train): 0.0595 | Phys (Valid): 0.0580\n",
            "New best model saved (Validation Loss: 0.4683)\n",
            "Epoch [8/50] 10.83s | Train Loss: 0.5446 | Valid Loss: 0.5320 | Train Acc: 0.7564 | Valid Acc: 0.8102 | Phys (Train): 0.0569 | Phys (Valid): 0.0558\n",
            "Epoch [9/50] 11.16s | Train Loss: 0.5433 | Valid Loss: 0.4468 | Train Acc: 0.7553 | Valid Acc: 0.8273 | Phys (Train): 0.0529 | Phys (Valid): 0.0496\n",
            "New best model saved (Validation Loss: 0.4468)\n",
            "Epoch [10/50] 10.72s | Train Loss: 0.5294 | Valid Loss: 0.6813 | Train Acc: 0.7527 | Valid Acc: 0.7299 | Phys (Train): 0.0504 | Phys (Valid): 0.0477\n",
            "Epoch [11/50] 12.16s | Train Loss: 0.5861 | Valid Loss: 0.5698 | Train Acc: 0.7480 | Valid Acc: 0.7810 | Phys (Train): 0.0542 | Phys (Valid): 0.0538\n",
            "Epoch [12/50] 9.97s | Train Loss: 0.5302 | Valid Loss: 0.4808 | Train Acc: 0.7475 | Valid Acc: 0.8054 | Phys (Train): 0.0535 | Phys (Valid): 0.0510\n",
            "Epoch [13/50] 10.59s | Train Loss: 0.4943 | Valid Loss: 0.4504 | Train Acc: 0.7720 | Valid Acc: 0.8102 | Phys (Train): 0.0497 | Phys (Valid): 0.0483\n",
            "Epoch [14/50] 10.57s | Train Loss: 0.4384 | Valid Loss: 0.4002 | Train Acc: 0.8048 | Valid Acc: 0.8443 | Phys (Train): 0.0475 | Phys (Valid): 0.0446\n",
            "New best model saved (Validation Loss: 0.4002)\n",
            "Epoch [15/50] 10.50s | Train Loss: 0.5055 | Valid Loss: 0.3839 | Train Acc: 0.7741 | Valid Acc: 0.8637 | Phys (Train): 0.0473 | Phys (Valid): 0.0467\n",
            "New best model saved (Validation Loss: 0.3839)\n",
            "Epoch [16/50] 12.03s | Train Loss: 0.4237 | Valid Loss: 0.5924 | Train Acc: 0.8142 | Valid Acc: 0.8054 | Phys (Train): 0.0447 | Phys (Valid): 0.0434\n",
            "Epoch [17/50] 10.44s | Train Loss: 0.4180 | Valid Loss: 0.3910 | Train Acc: 0.8074 | Valid Acc: 0.8662 | Phys (Train): 0.0431 | Phys (Valid): 0.0420\n",
            "Epoch [18/50] 10.53s | Train Loss: 0.4000 | Valid Loss: 0.5320 | Train Acc: 0.8199 | Valid Acc: 0.8078 | Phys (Train): 0.0420 | Phys (Valid): 0.0406\n",
            "Epoch [19/50] 10.63s | Train Loss: 0.4226 | Valid Loss: 0.4453 | Train Acc: 0.8147 | Valid Acc: 0.8321 | Phys (Train): 0.0417 | Phys (Valid): 0.0410\n",
            "Epoch [20/50] 10.52s | Train Loss: 0.3887 | Valid Loss: 0.4804 | Train Acc: 0.8308 | Valid Acc: 0.8248 | Phys (Train): 0.0413 | Phys (Valid): 0.0402\n",
            "Epoch [21/50] 10.55s | Train Loss: 0.4154 | Valid Loss: 0.5030 | Train Acc: 0.8090 | Valid Acc: 0.7835 | Phys (Train): 0.0420 | Phys (Valid): 0.0417\n",
            "Epoch [22/50] 9.99s | Train Loss: 0.3787 | Valid Loss: 0.4227 | Train Acc: 0.8355 | Valid Acc: 0.8540 | Phys (Train): 0.0425 | Phys (Valid): 0.0412\n",
            "Epoch [23/50] 10.92s | Train Loss: 0.3642 | Valid Loss: 0.4414 | Train Acc: 0.8334 | Valid Acc: 0.8418 | Phys (Train): 0.0406 | Phys (Valid): 0.0383\n",
            "Epoch [24/50] 10.66s | Train Loss: 0.3818 | Valid Loss: 0.4460 | Train Acc: 0.8313 | Valid Acc: 0.8127 | Phys (Train): 0.0398 | Phys (Valid): 0.0380\n",
            "Epoch [25/50] 10.56s | Train Loss: 0.3895 | Valid Loss: 0.4731 | Train Acc: 0.8272 | Valid Acc: 0.8321 | Phys (Train): 0.0404 | Phys (Valid): 0.0410\n",
            "Epoch [26/50] 10.62s | Train Loss: 0.3885 | Valid Loss: 0.3864 | Train Acc: 0.8199 | Valid Acc: 0.8540 | Phys (Train): 0.0393 | Phys (Valid): 0.0393\n",
            "Epoch [27/50] 10.01s | Train Loss: 0.3285 | Valid Loss: 0.4158 | Train Acc: 0.8584 | Valid Acc: 0.8589 | Phys (Train): 0.0390 | Phys (Valid): 0.0388\n",
            "Epoch [28/50] 10.72s | Train Loss: 0.3198 | Valid Loss: 0.4617 | Train Acc: 0.8548 | Valid Acc: 0.8540 | Phys (Train): 0.0377 | Phys (Valid): 0.0368\n",
            "Epoch [29/50] 11.46s | Train Loss: 0.3157 | Valid Loss: 0.4016 | Train Acc: 0.8568 | Valid Acc: 0.8613 | Phys (Train): 0.0365 | Phys (Valid): 0.0355\n",
            "Epoch [30/50] 10.69s | Train Loss: 0.3164 | Valid Loss: 0.4112 | Train Acc: 0.8673 | Valid Acc: 0.8613 | Phys (Train): 0.0353 | Phys (Valid): 0.0355\n",
            "Epoch [31/50] 10.66s | Train Loss: 0.3545 | Valid Loss: 0.5353 | Train Acc: 0.8381 | Valid Acc: 0.8370 | Phys (Train): 0.0359 | Phys (Valid): 0.0359\n",
            "Epoch [32/50] 9.96s | Train Loss: 0.3704 | Valid Loss: 0.4170 | Train Acc: 0.8417 | Valid Acc: 0.8564 | Phys (Train): 0.0365 | Phys (Valid): 0.0355\n",
            "Epoch [33/50] 10.66s | Train Loss: 0.4122 | Valid Loss: 0.3884 | Train Acc: 0.8303 | Valid Acc: 0.8686 | Phys (Train): 0.0384 | Phys (Valid): 0.0373\n",
            "Epoch [34/50] 10.51s | Train Loss: 0.3149 | Valid Loss: 0.5075 | Train Acc: 0.8615 | Valid Acc: 0.8443 | Phys (Train): 0.0366 | Phys (Valid): 0.0350\n",
            "Epoch [35/50] 10.54s | Train Loss: 0.3064 | Valid Loss: 0.4302 | Train Acc: 0.8673 | Valid Acc: 0.8443 | Phys (Train): 0.0354 | Phys (Valid): 0.0341\n",
            "Epoch [36/50] 10.38s | Train Loss: 0.3142 | Valid Loss: 0.4691 | Train Acc: 0.8579 | Valid Acc: 0.8613 | Phys (Train): 0.0352 | Phys (Valid): 0.0348\n",
            "Epoch [37/50] 10.23s | Train Loss: 0.2924 | Valid Loss: 0.5454 | Train Acc: 0.8662 | Valid Acc: 0.8467 | Phys (Train): 0.0347 | Phys (Valid): 0.0345\n",
            "Epoch [38/50] 10.72s | Train Loss: 0.2873 | Valid Loss: 0.4647 | Train Acc: 0.8751 | Valid Acc: 0.8418 | Phys (Train): 0.0348 | Phys (Valid): 0.0344\n",
            "Epoch [39/50] 10.52s | Train Loss: 0.3155 | Valid Loss: 0.4159 | Train Acc: 0.8667 | Valid Acc: 0.8516 | Phys (Train): 0.0345 | Phys (Valid): 0.0347\n",
            "Epoch [40/50] 10.55s | Train Loss: 0.2678 | Valid Loss: 0.4293 | Train Acc: 0.8855 | Valid Acc: 0.8710 | Phys (Train): 0.0342 | Phys (Valid): 0.0335\n",
            "Epoch [41/50] 10.28s | Train Loss: 0.2769 | Valid Loss: 0.5461 | Train Acc: 0.8922 | Valid Acc: 0.8467 | Phys (Train): 0.0340 | Phys (Valid): 0.0343\n",
            "Epoch [42/50] 10.38s | Train Loss: 0.3286 | Valid Loss: 0.5088 | Train Acc: 0.8579 | Valid Acc: 0.8516 | Phys (Train): 0.0342 | Phys (Valid): 0.0348\n",
            "Epoch [43/50] 10.60s | Train Loss: 0.2914 | Valid Loss: 0.7467 | Train Acc: 0.8834 | Valid Acc: 0.7932 | Phys (Train): 0.0354 | Phys (Valid): 0.0321\n",
            "Epoch [44/50] 10.59s | Train Loss: 0.2833 | Valid Loss: 0.4655 | Train Acc: 0.8865 | Valid Acc: 0.8637 | Phys (Train): 0.0350 | Phys (Valid): 0.0343\n",
            "Epoch [45/50] 10.79s | Train Loss: 0.2523 | Valid Loss: 0.4958 | Train Acc: 0.8974 | Valid Acc: 0.8564 | Phys (Train): 0.0334 | Phys (Valid): 0.0327\n",
            "Epoch [46/50] 10.13s | Train Loss: 0.2531 | Valid Loss: 0.4877 | Train Acc: 0.8912 | Valid Acc: 0.8224 | Phys (Train): 0.0320 | Phys (Valid): 0.0309\n",
            "Epoch [47/50] 10.81s | Train Loss: 0.2827 | Valid Loss: 0.6036 | Train Acc: 0.8891 | Valid Acc: 0.8345 | Phys (Train): 0.0327 | Phys (Valid): 0.0321\n",
            "Epoch [48/50] 12.05s | Train Loss: 0.2419 | Valid Loss: 0.5193 | Train Acc: 0.8896 | Valid Acc: 0.8491 | Phys (Train): 0.0314 | Phys (Valid): 0.0304\n",
            "Epoch [49/50] 10.88s | Train Loss: 0.2496 | Valid Loss: 0.5567 | Train Acc: 0.8928 | Valid Acc: 0.8467 | Phys (Train): 0.0316 | Phys (Valid): 0.0323\n",
            "Epoch [50/50] 10.73s | Train Loss: 0.2954 | Valid Loss: 0.4707 | Train Acc: 0.8813 | Valid Acc: 0.8516 | Phys (Train): 0.0315 | Phys (Valid): 0.0307\n",
            "\n",
            "Total Training Time: 545.03 seconds\n",
            "Best model saved as: /content/drive/MyDrive/model/pinn_best_flow_classifier.pt\n"
          ]
        }
      ]
    },
    {
      "cell_type": "code",
      "source": [
        "# Accuracy storage\n",
        "accuracies = {}\n",
        "\n",
        "def evaluate_model(data_loader, set_name):\n",
        "    all_preds = []\n",
        "    all_labels = []\n",
        "\n",
        "    model.eval()\n",
        "    with torch.no_grad():\n",
        "        for images, labels in data_loader:\n",
        "            images, labels = images.to(device), labels.to(device)\n",
        "            outputs = model(images)\n",
        "            _, predicted = torch.max(outputs, 1)\n",
        "            all_preds.extend(predicted.cpu().numpy())\n",
        "            all_labels.extend(labels.cpu().numpy())\n",
        "\n",
        "    accuracy = accuracy_score(all_labels, all_preds)\n",
        "    accuracies[set_name] = accuracy\n",
        "\n",
        "evaluate_model(train_loader, 'Training')\n",
        "evaluate_model(valid_loader, 'Validation')\n",
        "\n",
        "# Print combined accuracies\n",
        "print(\"\\nAccuracy Report\")\n",
        "print(\"-\" * 40)\n",
        "print(f\"Training Accuracy: {accuracies['Training'] * 100:.2f}\")\n",
        "print(f\"Validation Accuracy: {accuracies['Validation'] * 100:.2f}%\")\n",
        "print(\"-\" * 40)"
      ],
      "metadata": {
        "colab": {
          "base_uri": "https://localhost:8080/"
        },
        "id": "LRbmr7xPzo5l",
        "outputId": "b2be2c5a-291f-4984-ce31-ea59caf5a179"
      },
      "execution_count": null,
      "outputs": [
        {
          "output_type": "stream",
          "name": "stdout",
          "text": [
            "\n",
            "Accuracy Report\n",
            "----------------------------------------\n",
            "Training Accuracy: 99.38\n",
            "Validation Accuracy: 85.16%\n",
            "----------------------------------------\n"
          ]
        }
      ]
    },
    {
      "cell_type": "code",
      "source": [
        "# Loss Curves\n",
        "plt.figure()\n",
        "plt.plot(train_losses, label='Train Loss', marker='o')\n",
        "plt.plot(valid_losses, label='Validation Loss', marker='o')\n",
        "plt.title('Training vs Validation Loss')\n",
        "plt.xlabel('Epoch')\n",
        "plt.ylabel('Loss')\n",
        "plt.legend()\n",
        "plt.savefig(os.path.join(OUTPUT_DIR, 'pinn_loss_graph.png'))\n",
        "plt.show()\n",
        "plt.close()"
      ],
      "metadata": {
        "colab": {
          "base_uri": "https://localhost:8080/",
          "height": 472
        },
        "id": "S9KLEEn-yvc_",
        "outputId": "f558cba8-357f-4595-bbc1-372490b99381"
      },
      "execution_count": null,
      "outputs": [
        {
          "output_type": "display_data",
          "data": {
            "text/plain": [
              "<Figure size 640x480 with 1 Axes>"
            ],
            "image/png": "[encoded data removed]"
          },
          "metadata": {}
        }
      ]
    },
    {
      "cell_type": "code",
      "source": [
        "# Physics Loss Curves\n",
        "plt.figure()\n",
        "plt.plot(train_phys_losses, label='Train Physics Loss', marker='s')\n",
        "plt.plot(valid_phys_losses, label='Validation Physics Loss', marker='s')\n",
        "plt.title('Physics Loss Over Epochs')\n",
        "plt.xlabel('Epoch')\n",
        "plt.ylabel('Physics Loss')\n",
        "plt.legend()\n",
        "plt.savefig(os.path.join(OUTPUT_DIR, 'pinn_physics_loss_graph.png'))\n",
        "plt.show()\n",
        "plt.close()"
      ],
      "metadata": {
        "colab": {
          "base_uri": "https://localhost:8080/",
          "height": 472
        },
        "id": "QVNzmd-TzOYa",
        "outputId": "0d1fed5e-70be-4f1f-910d-7e109a1219ac"
      },
      "execution_count": null,
      "outputs": [
        {
          "output_type": "display_data",
          "data": {
            "text/plain": [
              "<Figure size 640x480 with 1 Axes>"
            ],
            "image/png": "[encoded data removed]"
          },
          "metadata": {}
        }
      ]
    },
    {
      "cell_type": "markdown",
      "source": [
        "# Save Model"
      ],
      "metadata": {
        "id": "y4kFZFrYimqG"
      }
    },
    {
      "cell_type": "code",
      "source": [
        "torch.save(model, 'pinn_model3.pt')\n",
        "\n",
        "drive_folder = '/content/drive/MyDrive/model'\n",
        "os.makedirs(drive_folder, exist_ok=True)\n",
        "\n",
        "drive_model_path = os.path.join(drive_folder, 'pinn_model3.pt')\n",
        "shutil.move('pinn_model3.pt', drive_model_path)\n",
        "\n",
        "print(f\"model saved to Drive at:\\n{drive_model_path}\")"
      ],
      "metadata": {
        "id": "VdzAa5VcK9Zz",
        "colab": {
          "base_uri": "https://localhost:8080/"
        },
        "outputId": "d6f90dcc-c695-42c6-ab9d-777017de4cb0"
      },
      "execution_count": null,
      "outputs": [
        {
          "output_type": "stream",
          "name": "stdout",
          "text": [
            "model saved to Drive at:\n",
            "/content/drive/MyDrive/model/pinn_model3.pt\n"
          ]
        }
      ]
    }
  ]
}